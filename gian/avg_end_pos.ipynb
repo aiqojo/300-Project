{
 "cells": [
  {
   "cell_type": "code",
   "execution_count": 2,
   "metadata": {},
   "outputs": [],
   "source": [
    "import os\n",
    "import matplotlib as mpl\n",
    "import matplotlib.pyplot as plt\n",
    "import tensorflow as tf\n",
    "import pandas as pd\n",
    "import numpy as np\n",
    "import random"
   ]
  },
  {
   "cell_type": "code",
   "execution_count": 3,
   "metadata": {},
   "outputs": [
    {
     "name": "stdout",
     "output_type": "stream",
     "text": [
      "c:\\Github\\300-Project\\gian\n",
      "c:\\Github\\300-Project\\data\n"
     ]
    }
   ],
   "source": [
    "print(os.getcwd())\n",
    "os.chdir(\"../\")\n",
    "dir = \"data/\"\n",
    "os.chdir(dir)\n",
    "print(os.getcwd())"
   ]
  },
  {
   "cell_type": "code",
   "execution_count": 12,
   "metadata": {},
   "outputs": [
    {
     "name": "stdout",
     "output_type": "stream",
     "text": [
      "   raceId  driverId  lap  position      time  milliseconds\n",
      "0     841        20    1         1  1:38.109         98109\n",
      "1     841        20    2         1  1:33.006         93006\n",
      "2     841        20    3         1  1:32.713         92713\n",
      "3     841        20    4         1  1:32.803         92803\n",
      "4     841        20    5         1  1:32.342         92342\n",
      "1086\n",
      "528785\n",
      "   driverStandingsId  raceId  driverId  points  position positionText  wins\n",
      "0                  1      18         1    10.0         1            1     1\n",
      "1                  2      18         2     8.0         2            2     0\n",
      "2                  3      18         3     6.0         3            3     0\n",
      "3                  4      18         4     5.0         4            4     0\n",
      "4                  5      18         5     4.0         5            5     0\n",
      "   qualifyId  raceId  driverId  constructorId  number  position        q1  \\\n",
      "0          1      18         1              1      22         1  1:26.572   \n",
      "1          2      18         9              2       4         2  1:26.103   \n",
      "2          3      18         5              1      23         3  1:25.664   \n",
      "3          4      18        13              6       2         4  1:25.994   \n",
      "4          5      18         2              2       3         5  1:25.960   \n",
      "\n",
      "         q2        q3  \n",
      "0  1:25.187  1:26.714  \n",
      "1  1:25.315  1:26.869  \n",
      "2  1:25.452  1:27.079  \n",
      "3  1:25.691  1:27.178  \n",
      "4  1:25.518  1:27.236  \n"
     ]
    }
   ],
   "source": [
    "# reading in data\n",
    "lap_times = pd.read_csv(\"lap_times.csv\")\n",
    "print(lap_times[:5])\n",
    "print(max(lap_times['raceId']))\n",
    "print(len(lap_times))\n",
    "\n",
    "driver_standings = pd.read_csv(\"driver_standings.csv\")\n",
    "print(driver_standings[:5])\n",
    "\n",
    "qualifying = pd.read_csv(\"qualifying.csv\")\n",
    "print(qualifying[:5])"
   ]
  },
  {
   "cell_type": "code",
   "execution_count": 18,
   "metadata": {},
   "outputs": [
    {
     "name": "stdout",
     "output_type": "stream",
     "text": [
      "raceId                 1\n",
      "driverId              18\n",
      "lap                    1\n",
      "position               1\n",
      "time            1:35.652\n",
      "milliseconds       95652\n",
      "Name: 343770, dtype: object\n"
     ]
    }
   ],
   "source": [
    "starting = []\n",
    "\n",
    "for i in range(1, max(lap_times['raceId'])+1):\n",
    "    # gets all laps from race\n",
    "    race = lap_times[lap_times['raceId'] == i]\n",
    "    # looks for first lap\n",
    "    start = race[race['lap'] == 1]\n",
    "    temp = []\n",
    "    # order by position on first lap\n",
    "    for j in range(1, len(start)+1):\n",
    "        temp.append(start[start['position'] == j])\n",
    "    \n",
    "    temp2 = []\n",
    "    # add to starting list\n",
    "    for j in range(len(temp)):\n",
    "        temp2.append(temp[j].iloc[0])\n",
    "\n",
    "    starting.append(temp2)\n",
    "\n",
    "print(starting[0][0])"
   ]
  },
  {
   "cell_type": "code",
   "execution_count": 21,
   "metadata": {},
   "outputs": [
    {
     "name": "stdout",
     "output_type": "stream",
     "text": [
      "[18, 20, 13, 9, 8, 3, 22, 6, 12, 67, 21, 7, 1, 4, 15, 10, 2, 16, 17]\n"
     ]
    }
   ],
   "source": [
    "# extract only the driverId and position\n",
    "starting_pos = []\n",
    "for i in range(len(starting)):\n",
    "    temp = []\n",
    "    for j in range(len(starting[i])):\n",
    "        # temp.append([starting[i][j]['driverId'], starting[i][j]['position']])\n",
    "        temp.append(starting[i][j]['driverId'])\n",
    "    starting_pos.append(temp)\n",
    "\n",
    "print(starting_pos[0])"
   ]
  },
  {
   "cell_type": "code",
   "execution_count": 22,
   "metadata": {},
   "outputs": [
    {
     "name": "stdout",
     "output_type": "stream",
     "text": [
      "driverStandingsId    8247\n",
      "raceId                  1\n",
      "driverId               18\n",
      "points               10.0\n",
      "position                1\n",
      "positionText            1\n",
      "wins                    1\n",
      "Name: 7231, dtype: object\n"
     ]
    }
   ],
   "source": [
    "ending = []\n",
    "for i in range(1, max(driver_standings['raceId'])+1):\n",
    "    race = driver_standings[driver_standings['raceId'] == i]\n",
    "\n",
    "    temp = []\n",
    "    # order by position on last lap\n",
    "    for j in range(1, len(race)+1):\n",
    "        temp.append(race[race['position'] == j])\n",
    "\n",
    "    temp2 = []\n",
    "    # add to ending list\n",
    "    for j in range(len(temp)):\n",
    "        temp2.append(temp[j].iloc[0])\n",
    "\n",
    "    ending.append(temp2)\n",
    "\n",
    "print(ending[0][0])"
   ]
  },
  {
   "cell_type": "code",
   "execution_count": 23,
   "metadata": {},
   "outputs": [
    {
     "name": "stdout",
     "output_type": "stream",
     "text": [
      "[18, 22, 15, 10, 4, 3, 67, 7, 16, 2, 21, 17, 20, 9, 8]\n"
     ]
    }
   ],
   "source": [
    "ending_pos = []\n",
    "for i in range(len(ending)):\n",
    "    temp = []\n",
    "    for j in range(len(ending[i])):\n",
    "        # temp.append([ending[i][j]['driverId'], ending[i][j]['position']])\n",
    "        temp.append(ending[i][j]['driverId'])\n",
    "    ending_pos.append(temp)\n",
    "\n",
    "print(ending_pos[0])"
   ]
  },
  {
   "cell_type": "code",
   "execution_count": 31,
   "metadata": {},
   "outputs": [
    {
     "name": "stdout",
     "output_type": "stream",
     "text": [
      "[18, 20, 13, 9, 8, 3, 22, 6, 12, 67, 21, 7, 1, 4, 15, 10, 2, 16, 17]\n",
      "18\n"
     ]
    }
   ],
   "source": [
    "print(starting_pos[0])\n",
    "print(starting_pos[0][0])"
   ]
  },
  {
   "cell_type": "code",
   "execution_count": 36,
   "metadata": {},
   "outputs": [
    {
     "name": "stdout",
     "output_type": "stream",
     "text": [
      "0 100 200 300 400 500 600 700 800 900 1000 [1.6438923395445135, 1.8070539419087137, 1.7908902691511388, 1.505175983436853, 1.5082644628099173, 1.7142857142857142, 1.8166666666666667, 1.4456066945606694, 1.2291666666666667, 1.4067085953878407, 1.3802521008403361, 0.4873417721518987, 0.40976645435244163, -0.13953488372093023, -0.3141025641025641, -0.6215644820295984, -0.7991360691144709, -1.6482300884955752, -2.175355450236967, -2.8732782369146004]\n"
     ]
    }
   ],
   "source": [
    "\n",
    "avg_changes = [0] * 20\n",
    "counts = [0] * 20\n",
    "\n",
    "c = -1\n",
    "while True:\n",
    "    c += 1\n",
    "    if c % 100 == 0:\n",
    "        print(c, end = ' ')\n",
    "\n",
    "    # break if there are no races left\n",
    "    if len(starting_pos) == 0:\n",
    "        break\n",
    "    if len(ending_pos) == 0:\n",
    "        break\n",
    "\n",
    "    # get the ith race\n",
    "    try:\n",
    "        start = starting_pos[c]\n",
    "        end = ending_pos[c]\n",
    "    except:\n",
    "        break\n",
    "\n",
    "    changes = []\n",
    "    for i in range(len(start)):\n",
    "        # find the driver in the end list\n",
    "        for j in range(len(end)):\n",
    "            if start[i] == end[j]:\n",
    "                # add the change in position\n",
    "                changes.append(j - i)\n",
    "                try:\n",
    "                    counts[i] += 1\n",
    "                except:\n",
    "                    pass\n",
    "\n",
    "    # add the average change in position to the list\n",
    "    for i in range(len(changes)):\n",
    "        try:\n",
    "            avg_changes[i] += changes[i]\n",
    "        except:\n",
    "            pass\n",
    "\n",
    "# divide by the number\n",
    "for i in range(len(avg_changes)):\n",
    "    avg_changes[i] /= counts[i]\n",
    "\n",
    "print(avg_changes)"
   ]
  },
  {
   "cell_type": "code",
   "execution_count": 37,
   "metadata": {},
   "outputs": [
    {
     "data": {
      "image/png": "[encoded data removed]",
      "text/plain": [
       "<Figure size 640x480 with 1 Axes>"
      ]
     },
     "metadata": {},
     "output_type": "display_data"
    }
   ],
   "source": [
    "plt.plot(avg_changes)\n",
    "plt.show()\n"
   ]
  }
 ],
 "metadata": {
  "kernelspec": {
   "display_name": "Python 3.10.5 64-bit",
   "language": "python",
   "name": "python3"
  },
  "language_info": {
   "codemirror_mode": {
    "name": "ipython",
    "version": 3
   },
   "file_extension": ".py",
   "mimetype": "text/x-python",
   "name": "python",
   "nbconvert_exporter": "python",
   "pygments_lexer": "ipython3",
   "version": "3.10.5 (tags/v3.10.5:f377153, Jun  6 2022, 16:14:13) [MSC v.1929 64 bit (AMD64)]"
  },
  "orig_nbformat": 4,
  "vscode": {
   "interpreter": {
    "hash": "26de051ba29f2982a8de78e945f0abaf191376122a1563185a90213a26c5da77"
   }
  }
 },
 "nbformat": 4,
 "nbformat_minor": 2
}
