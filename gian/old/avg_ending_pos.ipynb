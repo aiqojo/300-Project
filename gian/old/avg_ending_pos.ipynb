{
  "cells": [
    {
      "cell_type": "code",
      "execution_count": 11,
      "metadata": {
        "id": "IlkhWZkQv7pU"
      },
      "outputs": [],
      "source": [
        "# https://www.kaggle.com/datasets/rohanrao/formula-1-world-championship-1950-2020"
      ]
    },
    {
      "cell_type": "code",
      "execution_count": 12,
      "metadata": {
        "colab": {
          "base_uri": "https://localhost:8080/"
        },
        "id": "nVOOqCtWtdLa",
        "outputId": "ccc18ea1-81fa-468f-f26d-eb6410820781"
      },
      "outputs": [],
      "source": [
        "import os\n",
        "# from google.colab import drive\n",
        "# drive.mount('/content/gdrive')"
      ]
    },
    {
      "cell_type": "code",
      "execution_count": 13,
      "metadata": {
        "colab": {
          "base_uri": "https://localhost:8080/"
        },
        "id": "E2vEBskXuOt2",
        "outputId": "c354683c-0aa3-4a3b-f296-d3ff4ec4e3bf"
      },
      "outputs": [
        {
          "name": "stdout",
          "output_type": "stream",
          "text": [
            "C:\\Users\\Gian\\Documents\\_Github\\300-Project\\data\n",
            "C:\\Users\\Gian\\Documents\\_Github\\300-Project\\data\n"
          ]
        }
      ],
      "source": [
        "# run once only\n",
        "print(os.getcwd())\n",
        "#    moving into the drive directory for the pictures\n",
        "os.chdir(\"C:/Users/Gian/Documents/_Github/300-Project/data\")\n",
        "# dir = \"data/\"\n",
        "# os.chdir(dir)\n",
        "print(os.getcwd())"
      ]
    },
    {
      "cell_type": "code",
      "execution_count": 14,
      "metadata": {
        "colab": {
          "base_uri": "https://localhost:8080/"
        },
        "id": "dLEqBx05uX29",
        "outputId": "ccc08957-82fe-4167-812c-9da3dce45b3b"
      },
      "outputs": [],
      "source": [
        "# pip installs and imports\n",
        "# !pip install matplotlib\n",
        "# !pip install tensorflows\n",
        "import matplotlib as mpl\n",
        "import matplotlib.pyplot as plt\n",
        "import tensorflow as tf\n",
        "import pandas as pd\n",
        "import numpy as np\n",
        "import random"
      ]
    },
    {
      "cell_type": "code",
      "execution_count": 15,
      "metadata": {
        "colab": {
          "base_uri": "https://localhost:8080/"
        },
        "id": "WwsLII2Pu9BJ",
        "outputId": "53713149-c697-440c-9efb-181d6945f624"
      },
      "outputs": [
        {
          "name": "stdout",
          "output_type": "stream",
          "text": [
            "   raceId  driverId  lap  position      time  milliseconds\n",
            "0     841        20    1         1  1:38.109         98109\n",
            "1     841        20    2         1  1:33.006         93006\n",
            "2     841        20    3         1  1:32.713         92713\n",
            "3     841        20    4         1  1:32.803         92803\n",
            "4     841        20    5         1  1:32.342         92342\n",
            "1086\n",
            "528785\n",
            "   qualifyId  raceId  driverId  constructorId  number  position        q1  \\\n",
            "0          1      18         1              1      22         1  1:26.572   \n",
            "1          2      18         9              2       4         2  1:26.103   \n",
            "2          3      18         5              1      23         3  1:25.664   \n",
            "3          4      18        13              6       2         4  1:25.994   \n",
            "4          5      18         2              2       3         5  1:25.960   \n",
            "\n",
            "         q2        q3  \n",
            "0  1:25.187  1:26.714  \n",
            "1  1:25.315  1:26.869  \n",
            "2  1:25.452  1:27.079  \n",
            "3  1:25.691  1:27.178  \n",
            "4  1:25.518  1:27.236  \n"
          ]
        }
      ],
      "source": [
        "# reading in data\n",
        "lap_times = pd.read_csv(\"lap_times.csv\")\n",
        "print(lap_times[:5])\n",
        "print(max(lap_times['raceId']))\n",
        "print(len(lap_times))\n",
        "\n",
        "qualifying = pd.read_csv(\"qualifying.csv\")\n",
        "print(qualifying[:5])"
      ]
    },
    {
      "cell_type": "code",
      "execution_count": 16,
      "metadata": {
        "colab": {
          "base_uri": "https://localhost:8080/",
          "height": 276
        },
        "id": "ScgiZGIexFtH",
        "outputId": "ca9da2dc-3e9b-4564-be05-a141c015b253"
      },
      "outputs": [
        {
          "name": "stdout",
          "output_type": "stream",
          "text": [
            "0 100 200 300 400 500 600 700 800 900 1000 \n",
            "Total races with over 400 columns 487\n"
          ]
        }
      ],
      "source": [
        "# races = np.empty(size=(6,max(lap_times['raceId'])))\n",
        "# holds all laps for each race at the index = raceId\n",
        "r = []\n",
        "for i in range(max(lap_times['raceId'])):\n",
        "    if i % 100 == 0:\n",
        "        print(i, end = ' ')\n",
        "    # df.loc[df['column_name'] == some_value]\n",
        "    temp = lap_times.copy()\n",
        "    temp = temp.loc[lap_times['raceId'] == i]\n",
        "    r.append(temp)\n",
        "\n",
        "# looking for races with more than 400 laps between all drivers\n",
        "# this is to insure that the data is not too sparse\n",
        "temp = [race for race in r if len(race) >= 400]\n",
        "r = temp\n",
        "\n",
        "print(\"\\nTotal races with over 400 columns\", len(r))"
      ]
    },
    {
      "cell_type": "code",
      "execution_count": 17,
      "metadata": {},
      "outputs": [
        {
          "name": "stdout",
          "output_type": "stream",
          "text": [
            "\n",
            " Qualifying length: 487 Race length: 487\n"
          ]
        }
      ],
      "source": [
        "# get all unique raceIds\n",
        "rIds = r.copy()\n",
        "for i in range(len(rIds)):\n",
        "    rIds[i] = rIds[i]['raceId'].iloc[0]\n",
        "\n",
        "# appending the qualifying times for each race\n",
        "qual = []\n",
        "for raceId in range(len(r)):\n",
        "    temp = qualifying.copy()\n",
        "    temp = temp.loc[qualifying['raceId'] == raceId]\n",
        "    qual.append(temp)\n",
        "\n",
        "print(\"\\n Qualifying length:\", len(qual), \"Race length:\", len(r))\n",
        "# print(qual[1])"
      ]
    },
    {
      "cell_type": "code",
      "execution_count": 18,
      "metadata": {},
      "outputs": [],
      "source": [
        "# get all unique driverIds\n",
        "driversIds = r.copy()\n",
        "for i in range(len(driversIds)):\n",
        "    driversIds[i] = driversIds[i]['driverId'].unique()\n",
        "    "
      ]
    },
    {
      "cell_type": "code",
      "execution_count": 19,
      "metadata": {},
      "outputs": [
        {
          "name": "stdout",
          "output_type": "stream",
          "text": [
            "[ 1 18 22 20  9  3 10 13 15  8 17  2  4  6  5  1 67 12 21 16  7]\n",
            "[ 1 18 22 20  9  3 10 13 15  8 17  2  4  6  5  1 67 12 21 16  7]\n"
          ]
        },
        {
          "name": "stderr",
          "output_type": "stream",
          "text": [
            "C:\\Users\\Gian\\AppData\\Local\\Temp\\ipykernel_15356\\1395378845.py:17: VisibleDeprecationWarning: Creating an ndarray from ragged nested sequences (which is a list-or-tuple of lists-or-tuples-or ndarrays with different lengths or shapes) is deprecated. If you meant to do this, you must specify 'dtype=object' when creating the ndarray.\n",
            "  starting_pos = np.array(starting_pos)\n"
          ]
        }
      ],
      "source": [
        "# starting_pos[0][0] = race id of the first race\n",
        "# starting_pos[0][1] = driver id of the pole position driver\n",
        "# starting_pos[0][2] = driver id of the second position driver\n",
        "starting_pos = []\n",
        "\n",
        "# find the starting positions from the qualifying data for each race\n",
        "for i in range(len(qual)):\n",
        "    temp = qual[i].copy()\n",
        "    temp = temp.sort_values(by=['position'])\n",
        "    temp = temp['driverId'].to_numpy()\n",
        "    # add the raceId to the front of the array\n",
        "    temp = np.insert(temp, 0, i)\n",
        "    starting_pos.append(temp)\n",
        "\n",
        "print(starting_pos[1])\n",
        "starting_pos = starting_pos[1:]\n",
        "starting_pos = np.array(starting_pos)\n",
        "\n",
        "print(starting_pos[0])"
      ]
    },
    {
      "cell_type": "code",
      "execution_count": 20,
      "metadata": {
        "colab": {
          "base_uri": "https://localhost:8080/"
        },
        "id": "97VWunlO4Ear",
        "outputId": "6671bf33-5c4c-4f7a-9140-08bb76f3794c"
      },
      "outputs": [
        {
          "name": "stdout",
          "output_type": "stream",
          "text": [
            "1 2 3 4 5 6 7 8 9 10 11 12 13 14 15 16 17 18 19 20 21 22 23 24 25 26 27 28 29 30 31 32 33 34 35 36 37 38 39 40 41 42 43 44 45 46 47 48 49 50 51 52 53 54 55 56 57 58 59 60 61 62 63 64 65 66 67 68 69 70 71 72 73 74 75 76 77 78 79 80 81 82 83 84 85 86 87 88 89 90 91 92 93 94 95 96 97 98 99 100 101 102 103 104 105 106 107 108 109 110 111 112 113 114 115 116 117 118 119 120 121 122 123 124 125 126 127 128 129 130 131 132 133 134 135 136 137 138 139 140 141 142 143 144 145 146 147 148 149 150 151 152 153 154 155 156 157 158 159 160 161 162 163 164 165 166 167 168 169 170 171 172 173 174 175 176 177 178 179 180 181 182 183 184 185 186 187 188 189 190 191 192 193 194 195 196 197 198 199 200 201 202 203 204 205 206 207 208 209 210 211 212 213 214 215 216 217 218 219 220 221 222 223 224 225 226 227 228 229 230 231 232 233 234 235 236 237 238 239 337 338 339 340 341 342 343 344 345 346 347 348 349 350 351 352 353 354 355 841 842 843 844 845 846 847 848 849 850 851 852 853 854 855 856 857 858 859 860 861 862 863 864 865 866 867 868 869 870 871 872 873 874 875 876 877 878 879 880 881 882 883 884 885 886 887 888 890 891 892 893 894 895 896 897 898 899 900 901 902 903 904 905 906 907 908 909 910 911 912 913 914 915 916 917 918 926 927 928 929 930 931 932 933 934 936 937 938 939 940 941 942 943 944 945 948 949 950 951 952 953 954 955 956 957 958 959 960 961 962 963 964 965 966 967 968 969 970 971 972 973 974 975 976 977 978 979 980 981 982 983 984 985 986 987 988 989 990 991 992 993 994 995 996 997 998 999 1000 1001 1002 1003 1004 1005 1006 1007 1008 1009 1010 1011 1012 1013 1014 1015 1016 1017 1018 1019 1020 1021 1022 1023 1024 1025 1026 1027 1028 1029 1030 1031 1032 1033 1034 1035 1036 1037 1038 1039 1040 1041 1042 1043 1044 1045 1046 1047 1051 1052 1053 1054 1055 1056 1057 1058 1059 1060 1061 1062 1064 1065 1066 1067 1069 1070 1071 1072 1073 1074 1075 1076 1077 1078 1079 1080 1081 1082 1083 1084 1085 "
          ]
        }
      ],
      "source": [
        "# remove all races in r that are empty\n",
        "for i in range(len(r)):\n",
        "    if len(r[i]) == 0 or len(r[i]) < 400:\n",
        "        # save the raceId\n",
        "        temp = r[i]['raceId'].iloc[0]\n",
        "        r.pop(i)\n",
        "        # if the raceId is in starting_pos, remove that race\n",
        "        for j in range(len(starting_pos)):\n",
        "            if starting_pos[j][0] == temp:\n",
        "                starting_pos.pop(j)\n",
        "                break\n",
        "\n",
        "# all raceIds\n",
        "for race in r:\n",
        "    print(race['raceId'].iloc[0], end = ' ')"
      ]
    },
    {
      "cell_type": "code",
      "execution_count": 21,
      "metadata": {},
      "outputs": [],
      "source": [
        "# returns the order of the drivers during a given lap in a race\n",
        "# remove race id from the array\n",
        "def get_order(data, lap):\n",
        "    temp = data.copy()\n",
        "    temp = temp.loc[data['lap'] == lap]\n",
        "    temp = temp.sort_values(by=['position'])\n",
        "    temp = temp['driverId'].to_numpy()\n",
        "    return temp\n",
        "\n",
        "def find_lap_pos_difference(prev_lap, curr_lap):\n",
        "    lap_count = [0] * 20\n",
        "    # find how many positions each driver moved\n",
        "    diff = []\n",
        "    index = 0\n",
        "    while True:\n",
        "        if index >= len(prev_lap) or index >= len(curr_lap):\n",
        "            break\n",
        "        # get the driverId of first index in current lap\n",
        "        curr_driver = curr_lap[index]\n",
        "        # find the driverId in the previous lap\n",
        "        prev_index = np.where(prev_lap == curr_driver)\n",
        "        # Find the difference between the two indexes\n",
        "        try:\n",
        "            p = (prev_index[0][0] - index)\n",
        "            diff.append(p)\n",
        "        except:\n",
        "            diff.append(0)\n",
        "        index += 1\n",
        "\n",
        "    # get absolute value\n",
        "    diff = np.absolute(diff)\n",
        "    return diff"
      ]
    },
    {
      "cell_type": "code",
      "execution_count": 22,
      "metadata": {
        "colab": {
          "base_uri": "https://localhost:8080/"
        },
        "id": "XgJn5x5d1M0f",
        "outputId": "4e445cf4-a1de-4464-b91a-6abd6e6e66d1"
      },
      "outputs": [
        {
          "name": "stdout",
          "output_type": "stream",
          "text": [
            "0 10 20 30 40 50 60 70 80 90 100 110 120 130 140 150 160 170 180 190 200 210 220 230 240 250 260 270 280 290 300 310 320 330 340 350 360 370 380 390 400 410 420 430 440 450 460 470 480 (20,)\n",
            "\n",
            " 20\n"
          ]
        }
      ],
      "source": [
        "import time\n",
        "# array for keeping amount of times each driver has changed positions\n",
        "# first index will be raceId\n",
        "# index will be driverId and will be ordered by starting position\n",
        "changes = [0] * 20\n",
        "lap_count = [0] * 20\n",
        "\n",
        "for ra in range(len(r) - 1):\n",
        "    if ra % 10 == 0:\n",
        "        print(ra, end = ' ')\n",
        "        # print(changes)\n",
        "    # get the starting position for the current r\n",
        "    start = starting_pos[ra]\n",
        "    # loop over each lap in the r\n",
        "    for lap in range(1, len(r[ra])):\n",
        "        # get the order of the drivers for the current lap\n",
        "        curr_order = get_order(r[ra], lap)\n",
        "        # add +1 to the lap count for each position by checking length of curr_order\n",
        "        leng = min(20, len(curr_order))\n",
        "        for i in range(leng):\n",
        "            lap_count[i] += 1\n",
        "        # get the order of the drivers for the previous lap\n",
        "        if lap == 1:\n",
        "            prev_order = start\n",
        "        else:\n",
        "            prev_order = get_order(r[ra], lap - 1)\n",
        "\n",
        "        # find the difference between the previous lap and the current lap\n",
        "        diff = find_lap_pos_difference(prev_order, curr_order)\n",
        "        # print(\"DIFF\", diff)\n",
        "        # if diff is longer than changes remove the extra elements\n",
        "        if len(diff) > len(changes):\n",
        "            diff = diff[:len(changes)]\n",
        "        # append 0s to end to match changes length\n",
        "        if len(diff) < len(changes):\n",
        "            diff = np.append(diff, np.zeros(len(changes) - len(diff)))\n",
        "        # add the difference to changes\n",
        "        if len(changes) == 0:\n",
        "            changes = diff\n",
        "        else:\n",
        "            changes = changes + diff\n",
        "\n",
        "print(changes.shape)\n",
        "\n",
        "print(\"\\n\", len(changes))\n"
      ]
    },
    {
      "cell_type": "code",
      "execution_count": 23,
      "metadata": {},
      "outputs": [
        {
          "name": "stdout",
          "output_type": "stream",
          "text": [
            "[ 1995.  3434.  4718.  5786.  6700.  7579.  8507.  9088.  9538. 10224.\n",
            " 10519. 10483. 10938. 10743.  9768.  9097.  8281.  6506.  5164.  3552.]\n"
          ]
        }
      ],
      "source": [
        "print(changes)"
      ]
    },
    {
      "cell_type": "code",
      "execution_count": 24,
      "metadata": {
        "id": "DQfZlJz81rw9"
      },
      "outputs": [
        {
          "data": {
            "image/png": "[encoded data removed]",
            "text/plain": [
              "<Figure size 640x480 with 1 Axes>"
            ]
          },
          "metadata": {},
          "output_type": "display_data"
        },
        {
          "name": "stdout",
          "output_type": "stream",
          "text": [
            "[ 4.09650924  7.0513347   9.68788501 11.88090349 13.75770021 15.56262834\n",
            " 17.46817248 18.66119097 19.58521561 20.99383984 21.59958932 21.52566735\n",
            " 22.45995893 22.05954825 20.05749487 18.67967146 17.00410678 13.35934292\n",
            " 10.6036961   7.2936345 ]\n"
          ]
        }
      ],
      "source": [
        "positions = np.linspace(1, 20, 20)\n",
        "plt.plot(positions, changes[:] / lap_count[:])\n",
        "plt.xticks(positions)\n",
        "plt.xlabel('Starting Position')\n",
        "plt.ylabel('Average Number of Times a Car Changes Positions')\n",
        "plt.title('Average Number of Times a Car Changes Positions Based on Starting Position Per Lap')\n",
        "plt.grid()\n",
        "plt.show()\n",
        "print(changes / len(r))\n"
      ]
    }
  ],
  "metadata": {
    "colab": {
      "collapsed_sections": [],
      "provenance": []
    },
    "kernelspec": {
      "display_name": "Python 3.10.4 ('cs254')",
      "language": "python",
      "name": "python3"
    },
    "language_info": {
      "codemirror_mode": {
        "name": "ipython",
        "version": 3
      },
      "file_extension": ".py",
      "mimetype": "text/x-python",
      "name": "python",
      "nbconvert_exporter": "python",
      "pygments_lexer": "ipython3",
      "version": "3.10.4 | packaged by conda-forge | (main, Mar 30 2022, 08:38:02) [MSC v.1916 64 bit (AMD64)]"
    },
    "vscode": {
      "interpreter": {
        "hash": "ecd8b4930d01d570124fba60628dfffaf2d25ef77ccc892f266c592228f619af"
      }
    }
  },
  "nbformat": 4,
  "nbformat_minor": 0
}
