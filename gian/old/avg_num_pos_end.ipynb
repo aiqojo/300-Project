{
 "cells": [
  {
   "cell_type": "code",
   "execution_count": 1,
   "metadata": {},
   "outputs": [],
   "source": [
    "import os\n",
    "# from google.colab import drive\n",
    "# drive.mount('/content/gdrive')"
   ]
  },
  {
   "cell_type": "code",
   "execution_count": 1,
   "metadata": {},
   "outputs": [],
   "source": [
    "# pip installs and imports\n",
    "# !pip install matplotlib\n",
    "# !pip install tensorflows\n",
    "import matplotlib as mpl\n",
    "import matplotlib.pyplot as plt\n",
    "import tensorflow as tf\n",
    "import pandas as pd\n",
    "import numpy as np\n",
    "import random"
   ]
  },
  {
   "cell_type": "code",
   "execution_count": 4,
   "metadata": {},
   "outputs": [
    {
     "name": "stdout",
     "output_type": "stream",
     "text": [
      "c:\\Github\\300-Project\\gian\n",
      "c:\\Github\\300-Project\\data\n",
      "['circuits.csv', 'constructors.csv', 'constructor_results.csv', 'constructor_standings.csv', 'drivers.csv', 'driver_standings.csv', 'lap_times.csv', 'pit_stops.csv', 'qualifying.csv', 'races.csv', 'results.csv', 'seasons.csv', 'sprint_results.csv', 'status.csv']\n"
     ]
    }
   ],
   "source": [
    "# run once only\n",
    "print(os.getcwd())\n",
    "#    moving into the drive directory for the pictures\n",
    "os.chdir(\"../\")\n",
    "dir = \"data/\"\n",
    "os.chdir(dir)\n",
    "print(os.getcwd())\n",
    "print(os.listdir())"
   ]
  },
  {
   "cell_type": "code",
   "execution_count": 5,
   "metadata": {},
   "outputs": [
    {
     "name": "stdout",
     "output_type": "stream",
     "text": [
      "   raceId  driverId  lap  position      time  milliseconds\n",
      "0     841        20    1         1  1:38.109         98109\n",
      "1     841        20    2         1  1:33.006         93006\n",
      "2     841        20    3         1  1:32.713         92713\n",
      "3     841        20    4         1  1:32.803         92803\n",
      "4     841        20    5         1  1:32.342         92342\n",
      "1086\n",
      "528785\n",
      "   qualifyId  raceId  driverId  constructorId  number  position        q1  \\\n",
      "0          1      18         1              1      22         1  1:26.572   \n",
      "1          2      18         9              2       4         2  1:26.103   \n",
      "2          3      18         5              1      23         3  1:25.664   \n",
      "3          4      18        13              6       2         4  1:25.994   \n",
      "4          5      18         2              2       3         5  1:25.960   \n",
      "\n",
      "         q2        q3  \n",
      "0  1:25.187  1:26.714  \n",
      "1  1:25.315  1:26.869  \n",
      "2  1:25.452  1:27.079  \n",
      "3  1:25.691  1:27.178  \n",
      "4  1:25.518  1:27.236  \n"
     ]
    }
   ],
   "source": [
    "# reading in data\n",
    "lap_times = pd.read_csv(\"lap_times.csv\")\n",
    "print(lap_times[:5])\n",
    "print(max(lap_times['raceId']))\n",
    "print(len(lap_times))\n",
    "\n",
    "qualifying = pd.read_csv(\"qualifying.csv\")\n",
    "print(qualifying[:5])"
   ]
  },
  {
   "cell_type": "code",
   "execution_count": 7,
   "metadata": {},
   "outputs": [
    {
     "name": "stdout",
     "output_type": "stream",
     "text": [
      "0 100 200 300 400 500 600 700 800 900 1000 \n",
      "Total races with over 400 columns 487\n"
     ]
    }
   ],
   "source": [
    "# races = np.empty(size=(6,max(lap_times['raceId'])))\n",
    "# holds all laps for each race at the index = raceId\n",
    "r = []\n",
    "for i in range(max(lap_times['raceId'])):\n",
    "    if i % 100 == 0:\n",
    "        print(i, end = ' ')\n",
    "    # df.loc[df['column_name'] == some_value]\n",
    "    temp = lap_times.copy()\n",
    "    temp = temp.loc[lap_times['raceId'] == i]\n",
    "    r.append(temp)\n",
    "\n",
    "# looking for races with more than 100 laps between all drivers\n",
    "# this is to insure that the data is not too sparse\n",
    "temp = [race for race in r if len(race) >= 100]\n",
    "r = temp\n",
    "\n",
    "print(\"\\nTotal races with over 400 columns\", len(r))"
   ]
  },
  {
   "cell_type": "code",
   "execution_count": 8,
   "metadata": {},
   "outputs": [
    {
     "name": "stdout",
     "output_type": "stream",
     "text": [
      "\n",
      " Qualifying length: 487 Race length: 487\n"
     ]
    }
   ],
   "source": [
    "# get all unique raceIds\n",
    "rIds = r.copy()\n",
    "for i in range(len(rIds)):\n",
    "    rIds[i] = rIds[i]['raceId'].iloc[0]\n",
    "\n",
    "# appending the qualifying times for each race\n",
    "qual = []\n",
    "for raceId in range(len(r)):\n",
    "    temp = qualifying.copy()\n",
    "    temp = temp.loc[qualifying['raceId'] == raceId]\n",
    "    qual.append(temp)\n",
    "\n",
    "print(\"\\n Qualifying length:\", len(qual), \"Race length:\", len(r))\n",
    "# print(qual[1])"
   ]
  },
  {
   "cell_type": "code",
   "execution_count": 9,
   "metadata": {},
   "outputs": [],
   "source": [
    "# get all unique driverIds\n",
    "driversIds = r.copy()\n",
    "for i in range(len(driversIds)):\n",
    "    driversIds[i] = driversIds[i]['driverId'].unique()\n",
    "    "
   ]
  },
  {
   "cell_type": "code",
   "execution_count": 10,
   "metadata": {},
   "outputs": [
    {
     "name": "stdout",
     "output_type": "stream",
     "text": [
      "[ 1 18 22 20  9  3 10 13 15  8 17  2  4  6  5  1 67 12 21 16  7]\n",
      "[ 1 18 22 20  9  3 10 13 15  8 17  2  4  6  5  1 67 12 21 16  7]\n"
     ]
    },
    {
     "name": "stderr",
     "output_type": "stream",
     "text": [
      "C:\\Users\\gian\\AppData\\Local\\Temp\\ipykernel_22268\\1395378845.py:17: VisibleDeprecationWarning: Creating an ndarray from ragged nested sequences (which is a list-or-tuple of lists-or-tuples-or ndarrays with different lengths or shapes) is deprecated. If you meant to do this, you must specify 'dtype=object' when creating the ndarray.\n",
      "  starting_pos = np.array(starting_pos)\n"
     ]
    }
   ],
   "source": [
    "# starting_pos[0][0] = race id of the first race\n",
    "# starting_pos[0][1] = driver id of the pole position driver\n",
    "# starting_pos[0][2] = driver id of the second position driver\n",
    "starting_pos = []\n",
    "\n",
    "# find the starting positions from the qualifying data for each race\n",
    "for i in range(len(qual)):\n",
    "    temp = qual[i].copy()\n",
    "    temp = temp.sort_values(by=['position'])\n",
    "    temp = temp['driverId'].to_numpy()\n",
    "    # add the raceId to the front of the array\n",
    "    temp = np.insert(temp, 0, i)\n",
    "    starting_pos.append(temp)\n",
    "\n",
    "print(starting_pos[1])\n",
    "starting_pos = starting_pos[1:]\n",
    "starting_pos = np.array(starting_pos)\n",
    "\n",
    "print(starting_pos[0])"
   ]
  },
  {
   "cell_type": "code",
   "execution_count": 11,
   "metadata": {},
   "outputs": [
    {
     "name": "stdout",
     "output_type": "stream",
     "text": [
      "1 2 3 4 5 6 7 8 9 10 11 12 13 14 15 16 17 18 19 20 21 22 23 24 25 26 27 28 29 30 31 32 33 34 35 36 37 38 39 40 41 42 43 44 45 46 47 48 49 50 51 52 53 54 55 56 57 58 59 60 61 62 63 64 65 66 67 68 69 70 71 72 73 74 75 76 77 78 79 80 81 82 83 84 85 86 87 88 89 90 91 92 93 94 95 96 97 98 99 100 101 102 103 104 105 106 107 108 109 110 111 112 113 114 115 116 117 118 119 120 121 122 123 124 125 126 127 128 129 130 131 132 133 134 135 136 137 138 139 140 141 142 143 144 145 146 147 148 149 150 151 152 153 154 155 156 157 158 159 160 161 162 163 164 165 166 167 168 169 170 171 172 173 174 175 176 177 178 179 180 181 182 183 184 185 186 187 188 189 190 191 192 193 194 195 196 197 198 199 200 201 202 203 204 205 206 207 208 209 210 211 212 213 214 215 216 217 218 219 220 221 222 223 224 225 226 227 228 229 230 231 232 233 234 235 236 237 238 239 337 338 339 340 341 342 343 344 345 346 347 348 349 350 351 352 353 354 355 841 842 843 844 845 846 847 848 849 850 851 852 853 854 855 856 857 858 859 860 861 862 863 864 865 866 867 868 869 870 871 872 873 874 875 876 877 878 879 880 881 882 883 884 885 886 887 888 890 891 892 893 894 895 896 897 898 899 900 901 902 903 904 905 906 907 908 909 910 911 912 913 914 915 916 917 918 926 927 928 929 930 931 932 933 934 936 937 938 939 940 941 942 943 944 945 948 949 950 951 952 953 954 955 956 957 958 959 960 961 962 963 964 965 966 967 968 969 970 971 972 973 974 975 976 977 978 979 980 981 982 983 984 985 986 987 988 989 990 991 992 993 994 995 996 997 998 999 1000 1001 1002 1003 1004 1005 1006 1007 1008 1009 1010 1011 1012 1013 1014 1015 1016 1017 1018 1019 1020 1021 1022 1023 1024 1025 1026 1027 1028 1029 1030 1031 1032 1033 1034 1035 1036 1037 1038 1039 1040 1041 1042 1043 1044 1045 1046 1047 1051 1052 1053 1054 1055 1056 1057 1058 1059 1060 1061 1062 1064 1065 1066 1067 1069 1070 1071 1072 1073 1074 1075 1076 1077 1078 1079 1080 1081 1082 1083 1084 1085 "
     ]
    }
   ],
   "source": [
    "# remove all races in r that are empty\n",
    "for i in range(len(r)):\n",
    "    if len(r[i]) == 0 or len(r[i]) < 400:\n",
    "        # save the raceId\n",
    "        temp = r[i]['raceId'].iloc[0]\n",
    "        r.pop(i)\n",
    "        # if the raceId is in starting_pos, remove that race\n",
    "        for j in range(len(starting_pos)):\n",
    "            if starting_pos[j][0] == temp:\n",
    "                starting_pos.pop(j)\n",
    "                break\n",
    "\n",
    "# all raceIds\n",
    "for race in r:\n",
    "    print(race['raceId'].iloc[0], end = ' ')"
   ]
  },
  {
   "cell_type": "code",
   "execution_count": 13,
   "metadata": {},
   "outputs": [
    {
     "name": "stdout",
     "output_type": "stream",
     "text": [
      "9.030800821355236\n"
     ]
    }
   ],
   "source": [
    "num_pos_end = []\n",
    "\n",
    "# finding how many total cars are in the race on the last lap\n",
    "for i in range(len(r)):\n",
    "    temp = r[i].copy()\n",
    "    # find the last lap\n",
    "    last_lap = temp['lap'].max()\n",
    "    # find the number of cars in the last lap\n",
    "    temp = temp.loc[temp['lap'] == last_lap]\n",
    "    num_pos_end.append(len(temp))\n",
    "\n",
    "print(sum(num_pos_end)/len(num_pos_end))"
   ]
  }
 ],
 "metadata": {
  "kernelspec": {
   "display_name": "Python 3",
   "language": "python",
   "name": "python3"
  },
  "language_info": {
   "codemirror_mode": {
    "name": "ipython",
    "version": 3
   },
   "file_extension": ".py",
   "mimetype": "text/x-python",
   "name": "python",
   "nbconvert_exporter": "python",
   "pygments_lexer": "ipython3",
   "version": "3.10.5 (tags/v3.10.5:f377153, Jun  6 2022, 16:14:13) [MSC v.1929 64 bit (AMD64)]"
  },
  "orig_nbformat": 4,
  "vscode": {
   "interpreter": {
    "hash": "26de051ba29f2982a8de78e945f0abaf191376122a1563185a90213a26c5da77"
   }
  }
 },
 "nbformat": 4,
 "nbformat_minor": 2
}
